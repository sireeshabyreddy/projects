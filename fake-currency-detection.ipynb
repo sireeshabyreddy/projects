{
 "cells": [
  {
   "cell_type": "raw",
   "metadata": {
    "papermill": {
     "duration": 0.025324,
     "end_time": "2024-01-30T15:24:44.486554",
     "exception": false,
     "start_time": "2024-01-30T15:24:44.461230",
     "status": "completed"
    },
    "tags": []
   },
   "source": []
  },
  {
   "cell_type": "code",
   "execution_count": 1,
   "metadata": {
    "execution": {
     "iopub.execute_input": "2024-01-30T15:24:44.533725Z",
     "iopub.status.busy": "2024-01-30T15:24:44.532900Z",
     "iopub.status.idle": "2024-01-30T15:24:44.541372Z",
     "shell.execute_reply": "2024-01-30T15:24:44.541988Z"
    },
    "papermill": {
     "duration": 0.033924,
     "end_time": "2024-01-30T15:24:44.542212",
     "exception": false,
     "start_time": "2024-01-30T15:24:44.508288",
     "status": "completed"
    },
    "tags": []
   },
   "outputs": [],
   "source": [
    "\n",
    "\n",
    "from tensorflow.keras.layers import Input, Lambda, Dense, Flatten\n",
    "from tensorflow.keras.models import Model\n",
    "from tensorflow.keras.preprocessing import image\n",
    "from tensorflow.keras.preprocessing.image import ImageDataGenerator,load_img\n",
    "from tensorflow.keras.models import Sequential\n",
    "from tensorflow.keras.layers import MaxPooling2D\n",
    "from tensorflow.keras.layers import Conv2D\n",
    "\n",
    "import numpy as np\n",
    "from glob import glob"
   ]
  },
  {
   "cell_type": "code",
   "execution_count": 2,
   "metadata": {
    "execution": {
     "iopub.execute_input": "2024-01-30T15:24:44.592077Z",
     "iopub.status.busy": "2024-01-30T15:24:44.591244Z",
     "iopub.status.idle": "2024-01-30T15:24:44.596723Z",
     "shell.execute_reply": "2024-01-30T15:24:44.597737Z"
    },
    "papermill": {
     "duration": 0.033638,
     "end_time": "2024-01-30T15:24:44.597973",
     "exception": false,
     "start_time": "2024-01-30T15:24:44.564335",
     "status": "completed"
    },
    "tags": []
   },
   "outputs": [],
   "source": [
    "# re-size all the images to this\n",
    "IMAGE_SIZE = [224, 224]\n",
    "\n",
    "train_path = '../input/indian-currency-notes-classifier/Train'\n",
    "valid_path = '../input/indian-currency-notes-classifier/Test'"
   ]
  },
  {
   "cell_type": "code",
   "execution_count": 3,
   "metadata": {
    "execution": {
     "iopub.execute_input": "2024-01-30T15:24:44.649208Z",
     "iopub.status.busy": "2024-01-30T15:24:44.648168Z",
     "iopub.status.idle": "2024-01-30T15:24:44.660106Z",
     "shell.execute_reply": "2024-01-30T15:24:44.659404Z"
    },
    "papermill": {
     "duration": 0.03814,
     "end_time": "2024-01-30T15:24:44.660281",
     "exception": false,
     "start_time": "2024-01-30T15:24:44.622141",
     "status": "completed"
    },
    "tags": []
   },
   "outputs": [],
   "source": [
    "# useful for getting number of output classes\n",
    "folders = glob('../input/indian-currency-notes-classifier/Train/*')"
   ]
  },
  {
   "cell_type": "code",
   "execution_count": 4,
   "metadata": {
    "execution": {
     "iopub.execute_input": "2024-01-30T15:24:44.714754Z",
     "iopub.status.busy": "2024-01-30T15:24:44.713948Z",
     "iopub.status.idle": "2024-01-30T15:24:44.718502Z",
     "shell.execute_reply": "2024-01-30T15:24:44.717830Z"
    },
    "papermill": {
     "duration": 0.035144,
     "end_time": "2024-01-30T15:24:44.718635",
     "exception": false,
     "start_time": "2024-01-30T15:24:44.683491",
     "status": "completed"
    },
    "tags": []
   },
   "outputs": [
    {
     "data": {
      "text/plain": [
       "['../input/indian-currency-notes-classifier/Train/Twentynote',\n",
       " '../input/indian-currency-notes-classifier/Train/1Hundrednote',\n",
       " '../input/indian-currency-notes-classifier/Train/5Hundrednote',\n",
       " '../input/indian-currency-notes-classifier/Train/2Hundrednote',\n",
       " '../input/indian-currency-notes-classifier/Train/Tennote',\n",
       " '../input/indian-currency-notes-classifier/Train/Fiftynote',\n",
       " '../input/indian-currency-notes-classifier/Train/2Thousandnote']"
      ]
     },
     "execution_count": 4,
     "metadata": {},
     "output_type": "execute_result"
    }
   ],
   "source": [
    "folders"
   ]
  },
  {
   "cell_type": "code",
   "execution_count": 5,
   "metadata": {
    "execution": {
     "iopub.execute_input": "2024-01-30T15:24:44.776134Z",
     "iopub.status.busy": "2024-01-30T15:24:44.775366Z",
     "iopub.status.idle": "2024-01-30T15:24:45.059452Z",
     "shell.execute_reply": "2024-01-30T15:24:45.058641Z"
    },
    "papermill": {
     "duration": 0.317565,
     "end_time": "2024-01-30T15:24:45.059588",
     "exception": false,
     "start_time": "2024-01-30T15:24:44.742023",
     "status": "completed"
    },
    "tags": []
   },
   "outputs": [],
   "source": [
    "Classifier=Sequential()\n",
    "\n",
    "Classifier.add(Conv2D(32,(3,3), input_shape=(224,224,3), activation='relu'))\n",
    "Classifier.add(MaxPooling2D(pool_size=(2,2)))\n",
    "\n",
    "Classifier.add(Conv2D(32,(3,3),activation='relu'))\n",
    "Classifier.add(MaxPooling2D(pool_size=(2,2)))\n",
    "\n",
    "Classifier.add(Flatten())\n",
    "\n",
    "Classifier.add(Dense(units = 128, activation = 'relu'))\n",
    "Classifier.add(Dense(units = 7, activation = 'softmax'))"
   ]
  },
  {
   "cell_type": "code",
   "execution_count": 6,
   "metadata": {
    "execution": {
     "iopub.execute_input": "2024-01-30T15:24:45.120884Z",
     "iopub.status.busy": "2024-01-30T15:24:45.120076Z",
     "iopub.status.idle": "2024-01-30T15:24:45.126653Z",
     "shell.execute_reply": "2024-01-30T15:24:45.127238Z"
    },
    "papermill": {
     "duration": 0.044782,
     "end_time": "2024-01-30T15:24:45.127450",
     "exception": false,
     "start_time": "2024-01-30T15:24:45.082668",
     "status": "completed"
    },
    "tags": []
   },
   "outputs": [],
   "source": [
    "# tell the model what cost and optimization method to use\n",
    "Classifier.compile(\n",
    "  loss='categorical_crossentropy',\n",
    "  optimizer='adam',\n",
    "  metrics=['accuracy']\n",
    ")"
   ]
  },
  {
   "cell_type": "code",
   "execution_count": 7,
   "metadata": {
    "execution": {
     "iopub.execute_input": "2024-01-30T15:24:45.186871Z",
     "iopub.status.busy": "2024-01-30T15:24:45.185973Z",
     "iopub.status.idle": "2024-01-30T15:24:45.189773Z",
     "shell.execute_reply": "2024-01-30T15:24:45.189070Z"
    },
    "papermill": {
     "duration": 0.037738,
     "end_time": "2024-01-30T15:24:45.189916",
     "exception": false,
     "start_time": "2024-01-30T15:24:45.152178",
     "status": "completed"
    },
    "tags": []
   },
   "outputs": [],
   "source": [
    "# Use the Image Data Generator to import the images from the dataset\n",
    "from tensorflow.keras.preprocessing.image import ImageDataGenerator\n",
    "\n",
    "train_datagen = ImageDataGenerator(rescale = 1./255,\n",
    "                                   height_shift_range=0.2,\n",
    "                                   featurewise_center=True,\n",
    "                                   rotation_range=0.4,\n",
    "                                   horizontal_flip = True)\n",
    "\n",
    "test_datagen = ImageDataGenerator(rescale = 1./255,)"
   ]
  },
  {
   "cell_type": "code",
   "execution_count": 8,
   "metadata": {
    "execution": {
     "iopub.execute_input": "2024-01-30T15:24:45.245905Z",
     "iopub.status.busy": "2024-01-30T15:24:45.245050Z",
     "iopub.status.idle": "2024-01-30T15:24:45.352094Z",
     "shell.execute_reply": "2024-01-30T15:24:45.352858Z"
    },
    "papermill": {
     "duration": 0.138768,
     "end_time": "2024-01-30T15:24:45.353040",
     "exception": false,
     "start_time": "2024-01-30T15:24:45.214272",
     "status": "completed"
    },
    "tags": []
   },
   "outputs": [
    {
     "name": "stdout",
     "output_type": "stream",
     "text": [
      "Found 153 images belonging to 7 classes.\n"
     ]
    }
   ],
   "source": [
    "# Make sure you provide the same target size as initialied for the image size\n",
    "training_set = train_datagen.flow_from_directory('../input/indian-currency-notes-classifier/Train',\n",
    "                                                 target_size = (224, 224),\n",
    "                                                 batch_size = 32,\n",
    "                                                 class_mode = 'categorical')"
   ]
  },
  {
   "cell_type": "code",
   "execution_count": 9,
   "metadata": {
    "execution": {
     "iopub.execute_input": "2024-01-30T15:24:45.406541Z",
     "iopub.status.busy": "2024-01-30T15:24:45.405774Z",
     "iopub.status.idle": "2024-01-30T15:24:45.517278Z",
     "shell.execute_reply": "2024-01-30T15:24:45.518036Z"
    },
    "papermill": {
     "duration": 0.140208,
     "end_time": "2024-01-30T15:24:45.518207",
     "exception": false,
     "start_time": "2024-01-30T15:24:45.377999",
     "status": "completed"
    },
    "tags": []
   },
   "outputs": [
    {
     "name": "stdout",
     "output_type": "stream",
     "text": [
      "Found 42 images belonging to 7 classes.\n"
     ]
    }
   ],
   "source": [
    "test_set = test_datagen.flow_from_directory('../input/indian-currency-notes-classifier/Test',\n",
    "                                            target_size = (224, 224),\n",
    "                                            batch_size = 32,\n",
    "                                            class_mode = 'categorical')"
   ]
  },
  {
   "cell_type": "code",
   "execution_count": 10,
   "metadata": {
    "execution": {
     "iopub.execute_input": "2024-01-30T15:24:45.576099Z",
     "iopub.status.busy": "2024-01-30T15:24:45.575206Z",
     "iopub.status.idle": "2024-01-30T15:34:05.185730Z",
     "shell.execute_reply": "2024-01-30T15:34:05.184983Z"
    },
    "papermill": {
     "duration": 559.640657,
     "end_time": "2024-01-30T15:34:05.185900",
     "exception": false,
     "start_time": "2024-01-30T15:24:45.545243",
     "status": "completed"
    },
    "scrolled": false,
    "tags": []
   },
   "outputs": [
    {
     "name": "stderr",
     "output_type": "stream",
     "text": [
      "/opt/conda/lib/python3.7/site-packages/keras_preprocessing/image/image_data_generator.py:720: UserWarning: This ImageDataGenerator specifies `featurewise_center`, but it hasn't been fit on any training data. Fit it first by calling `.fit(numpy_data)`.\n",
      "  warnings.warn('This ImageDataGenerator specifies '\n"
     ]
    },
    {
     "name": "stdout",
     "output_type": "stream",
     "text": [
      "Epoch 1/50\n",
      "5/5 [==============================] - ETA: 0s - loss: 8.8181 - accuracy: 0.1765"
     ]
    },
    {
     "name": "stderr",
     "output_type": "stream",
     "text": [
      "/opt/conda/lib/python3.7/site-packages/PIL/TiffImagePlugin.py:780: UserWarning: Corrupt EXIF data.  Expecting to read 4 bytes but only got 0. \n",
      "  warnings.warn(str(msg))\n"
     ]
    },
    {
     "name": "stdout",
     "output_type": "stream",
     "text": [
      "5/5 [==============================] - 10s 2s/step - loss: 8.8181 - accuracy: 0.1765 - val_loss: 4.8947 - val_accuracy: 0.1429\n",
      "Epoch 2/50\n",
      "5/5 [==============================] - 9s 2s/step - loss: 2.7357 - accuracy: 0.1438 - val_loss: 1.9415 - val_accuracy: 0.1429\n",
      "Epoch 3/50\n",
      "5/5 [==============================] - 9s 2s/step - loss: 1.9357 - accuracy: 0.1765 - val_loss: 1.9374 - val_accuracy: 0.1667\n",
      "Epoch 4/50\n",
      "5/5 [==============================] - 9s 2s/step - loss: 1.8910 - accuracy: 0.2092 - val_loss: 1.8048 - val_accuracy: 0.2143\n",
      "Epoch 5/50\n",
      "5/5 [==============================] - 9s 2s/step - loss: 1.8241 - accuracy: 0.2288 - val_loss: 1.8457 - val_accuracy: 0.1429\n",
      "Epoch 6/50\n",
      "5/5 [==============================] - 9s 2s/step - loss: 1.7854 - accuracy: 0.2092 - val_loss: 1.6578 - val_accuracy: 0.1905\n",
      "Epoch 7/50\n",
      "5/5 [==============================] - 9s 2s/step - loss: 1.6384 - accuracy: 0.2745 - val_loss: 1.6935 - val_accuracy: 0.2619\n",
      "Epoch 8/50\n",
      "5/5 [==============================] - 9s 2s/step - loss: 1.5452 - accuracy: 0.4837 - val_loss: 1.5654 - val_accuracy: 0.4286\n",
      "Epoch 9/50\n",
      "5/5 [==============================] - 9s 2s/step - loss: 1.3936 - accuracy: 0.4314 - val_loss: 1.1873 - val_accuracy: 0.4524\n",
      "Epoch 10/50\n",
      "5/5 [==============================] - 9s 2s/step - loss: 1.1833 - accuracy: 0.5556 - val_loss: 1.3502 - val_accuracy: 0.4286\n",
      "Epoch 11/50\n",
      "5/5 [==============================] - 9s 2s/step - loss: 1.3296 - accuracy: 0.4902 - val_loss: 1.1998 - val_accuracy: 0.4048\n",
      "Epoch 12/50\n",
      "5/5 [==============================] - 8s 2s/step - loss: 1.1283 - accuracy: 0.5098 - val_loss: 1.3612 - val_accuracy: 0.3810\n",
      "Epoch 13/50\n",
      "5/5 [==============================] - 9s 2s/step - loss: 1.0274 - accuracy: 0.6144 - val_loss: 1.2906 - val_accuracy: 0.5238\n",
      "Epoch 14/50\n",
      "5/5 [==============================] - 9s 2s/step - loss: 0.9005 - accuracy: 0.6471 - val_loss: 1.0542 - val_accuracy: 0.5238\n",
      "Epoch 15/50\n",
      "5/5 [==============================] - 9s 2s/step - loss: 0.7752 - accuracy: 0.7190 - val_loss: 1.1515 - val_accuracy: 0.5238\n",
      "Epoch 16/50\n",
      "5/5 [==============================] - 8s 2s/step - loss: 0.7610 - accuracy: 0.7190 - val_loss: 0.9942 - val_accuracy: 0.6190\n",
      "Epoch 17/50\n",
      "5/5 [==============================] - 9s 2s/step - loss: 0.7978 - accuracy: 0.6863 - val_loss: 0.9883 - val_accuracy: 0.5952\n",
      "Epoch 18/50\n",
      "5/5 [==============================] - 9s 2s/step - loss: 0.7901 - accuracy: 0.7386 - val_loss: 1.1906 - val_accuracy: 0.5952\n",
      "Epoch 19/50\n",
      "5/5 [==============================] - 9s 2s/step - loss: 0.6731 - accuracy: 0.7451 - val_loss: 0.8265 - val_accuracy: 0.6667\n",
      "Epoch 20/50\n",
      "5/5 [==============================] - 9s 2s/step - loss: 0.6350 - accuracy: 0.7451 - val_loss: 0.8705 - val_accuracy: 0.7143\n",
      "Epoch 21/50\n",
      "5/5 [==============================] - 9s 2s/step - loss: 0.5736 - accuracy: 0.8105 - val_loss: 1.0184 - val_accuracy: 0.6190\n",
      "Epoch 22/50\n",
      "5/5 [==============================] - 9s 2s/step - loss: 0.5041 - accuracy: 0.8301 - val_loss: 0.9209 - val_accuracy: 0.6190\n",
      "Epoch 23/50\n",
      "5/5 [==============================] - 9s 2s/step - loss: 0.5016 - accuracy: 0.8235 - val_loss: 0.8193 - val_accuracy: 0.6667\n",
      "Epoch 24/50\n",
      "5/5 [==============================] - 9s 2s/step - loss: 0.3648 - accuracy: 0.8824 - val_loss: 1.0423 - val_accuracy: 0.6429\n",
      "Epoch 25/50\n",
      "5/5 [==============================] - 9s 2s/step - loss: 0.5077 - accuracy: 0.8105 - val_loss: 0.8465 - val_accuracy: 0.6667\n",
      "Epoch 26/50\n",
      "5/5 [==============================] - 8s 2s/step - loss: 0.4473 - accuracy: 0.8431 - val_loss: 1.2598 - val_accuracy: 0.5476\n",
      "Epoch 27/50\n",
      "5/5 [==============================] - 8s 2s/step - loss: 0.4131 - accuracy: 0.8758 - val_loss: 1.0159 - val_accuracy: 0.7143\n",
      "Epoch 28/50\n",
      "5/5 [==============================] - 9s 2s/step - loss: 0.3537 - accuracy: 0.8824 - val_loss: 1.1399 - val_accuracy: 0.6429\n",
      "Epoch 29/50\n",
      "5/5 [==============================] - 9s 2s/step - loss: 0.4401 - accuracy: 0.8562 - val_loss: 1.3590 - val_accuracy: 0.6667\n",
      "Epoch 30/50\n",
      "5/5 [==============================] - 9s 2s/step - loss: 0.2877 - accuracy: 0.9281 - val_loss: 1.2617 - val_accuracy: 0.6667\n",
      "Epoch 31/50\n",
      "5/5 [==============================] - 9s 2s/step - loss: 0.3901 - accuracy: 0.8497 - val_loss: 1.3325 - val_accuracy: 0.5952\n",
      "Epoch 32/50\n",
      "5/5 [==============================] - 9s 2s/step - loss: 0.3493 - accuracy: 0.8824 - val_loss: 1.0759 - val_accuracy: 0.6190\n",
      "Epoch 33/50\n",
      "5/5 [==============================] - 9s 2s/step - loss: 0.4023 - accuracy: 0.8497 - val_loss: 1.5797 - val_accuracy: 0.5952\n",
      "Epoch 34/50\n",
      "5/5 [==============================] - 9s 2s/step - loss: 0.3450 - accuracy: 0.9020 - val_loss: 1.0549 - val_accuracy: 0.6667\n",
      "Epoch 35/50\n",
      "5/5 [==============================] - 8s 2s/step - loss: 0.4138 - accuracy: 0.8366 - val_loss: 1.4749 - val_accuracy: 0.7143\n",
      "Epoch 36/50\n",
      "5/5 [==============================] - 9s 2s/step - loss: 0.3653 - accuracy: 0.8497 - val_loss: 0.9983 - val_accuracy: 0.5952\n",
      "Epoch 37/50\n",
      "5/5 [==============================] - 9s 2s/step - loss: 0.2853 - accuracy: 0.8889 - val_loss: 1.1499 - val_accuracy: 0.6190\n",
      "Epoch 38/50\n",
      "5/5 [==============================] - 9s 2s/step - loss: 0.2221 - accuracy: 0.9281 - val_loss: 1.4359 - val_accuracy: 0.7143\n",
      "Epoch 39/50\n",
      "5/5 [==============================] - 9s 2s/step - loss: 0.1873 - accuracy: 0.9412 - val_loss: 1.2678 - val_accuracy: 0.6905\n",
      "Epoch 40/50\n",
      "5/5 [==============================] - 9s 2s/step - loss: 0.2581 - accuracy: 0.9020 - val_loss: 0.9969 - val_accuracy: 0.6905\n",
      "Epoch 41/50\n",
      "5/5 [==============================] - 9s 2s/step - loss: 0.1852 - accuracy: 0.9542 - val_loss: 1.3095 - val_accuracy: 0.7381\n",
      "Epoch 42/50\n",
      "5/5 [==============================] - 9s 2s/step - loss: 0.1994 - accuracy: 0.9477 - val_loss: 1.0816 - val_accuracy: 0.6429\n",
      "Epoch 43/50\n",
      "5/5 [==============================] - 9s 2s/step - loss: 0.1608 - accuracy: 0.9542 - val_loss: 1.3574 - val_accuracy: 0.6667\n",
      "Epoch 44/50\n",
      "5/5 [==============================] - 9s 2s/step - loss: 0.1366 - accuracy: 0.9608 - val_loss: 1.0162 - val_accuracy: 0.7381\n",
      "Epoch 45/50\n",
      "5/5 [==============================] - 8s 2s/step - loss: 0.1585 - accuracy: 0.9608 - val_loss: 1.3628 - val_accuracy: 0.7619\n",
      "Epoch 46/50\n",
      "5/5 [==============================] - 9s 2s/step - loss: 0.1187 - accuracy: 0.9673 - val_loss: 1.5905 - val_accuracy: 0.7619\n",
      "Epoch 47/50\n",
      "5/5 [==============================] - 9s 2s/step - loss: 0.1027 - accuracy: 0.9673 - val_loss: 0.9408 - val_accuracy: 0.7381\n",
      "Epoch 48/50\n",
      "5/5 [==============================] - 9s 2s/step - loss: 0.1261 - accuracy: 0.9673 - val_loss: 1.5809 - val_accuracy: 0.7381\n",
      "Epoch 49/50\n",
      "5/5 [==============================] - 9s 2s/step - loss: 0.0859 - accuracy: 0.9804 - val_loss: 1.2444 - val_accuracy: 0.7857\n",
      "Epoch 50/50\n",
      "5/5 [==============================] - 9s 2s/step - loss: 0.0939 - accuracy: 0.9869 - val_loss: 1.4452 - val_accuracy: 0.6905\n"
     ]
    }
   ],
   "source": [
    "# fit the model\n",
    "from PIL import _imaging\n",
    "from PIL import Image\n",
    "import PIL\n",
    "# Run the cell. It will take some time to execute\n",
    "r = Classifier.fit_generator(\n",
    "  training_set,\n",
    "  validation_data=test_set,\n",
    "  epochs=50,\n",
    "  steps_per_epoch=len(training_set),\n",
    "  validation_steps=len(test_set)\n",
    ")"
   ]
  },
  {
   "cell_type": "code",
   "execution_count": 11,
   "metadata": {
    "execution": {
     "iopub.execute_input": "2024-01-30T15:34:05.543961Z",
     "iopub.status.busy": "2024-01-30T15:34:05.542801Z",
     "iopub.status.idle": "2024-01-30T15:34:05.547842Z",
     "shell.execute_reply": "2024-01-30T15:34:05.547098Z"
    },
    "papermill": {
     "duration": 0.187333,
     "end_time": "2024-01-30T15:34:05.547974",
     "exception": false,
     "start_time": "2024-01-30T15:34:05.360641",
     "status": "completed"
    },
    "tags": []
   },
   "outputs": [
    {
     "data": {
      "text/plain": [
       "{'loss': [8.818099975585938,\n",
       "  2.735687732696533,\n",
       "  1.935699224472046,\n",
       "  1.8910462856292725,\n",
       "  1.8241138458251953,\n",
       "  1.7853567600250244,\n",
       "  1.638368010520935,\n",
       "  1.5452288389205933,\n",
       "  1.3935552835464478,\n",
       "  1.1832778453826904,\n",
       "  1.3296334743499756,\n",
       "  1.1283107995986938,\n",
       "  1.027389645576477,\n",
       "  0.9005032181739807,\n",
       "  0.7751530408859253,\n",
       "  0.760955274105072,\n",
       "  0.7977767586708069,\n",
       "  0.790120542049408,\n",
       "  0.6731151938438416,\n",
       "  0.6350079774856567,\n",
       "  0.5736333727836609,\n",
       "  0.5040937066078186,\n",
       "  0.501559853553772,\n",
       "  0.36476829648017883,\n",
       "  0.5077463388442993,\n",
       "  0.4473278522491455,\n",
       "  0.4130736291408539,\n",
       "  0.3537483513355255,\n",
       "  0.4400569796562195,\n",
       "  0.28774401545524597,\n",
       "  0.3900737464427948,\n",
       "  0.3492547571659088,\n",
       "  0.40227872133255005,\n",
       "  0.34503763914108276,\n",
       "  0.4138130247592926,\n",
       "  0.3653129041194916,\n",
       "  0.2852841019630432,\n",
       "  0.22214801609516144,\n",
       "  0.1873137503862381,\n",
       "  0.2581303119659424,\n",
       "  0.1852278858423233,\n",
       "  0.19943568110466003,\n",
       "  0.1608322411775589,\n",
       "  0.1365717500448227,\n",
       "  0.1584586650133133,\n",
       "  0.11868882179260254,\n",
       "  0.10273763537406921,\n",
       "  0.12606364488601685,\n",
       "  0.08590485155582428,\n",
       "  0.0939037948846817],\n",
       " 'accuracy': [0.1764705926179886,\n",
       "  0.1437908560037613,\n",
       "  0.1764705926179886,\n",
       "  0.20915032923221588,\n",
       "  0.22875817120075226,\n",
       "  0.20915032923221588,\n",
       "  0.27450981736183167,\n",
       "  0.48366013169288635,\n",
       "  0.4313725531101227,\n",
       "  0.5555555820465088,\n",
       "  0.4901960790157318,\n",
       "  0.5098039507865906,\n",
       "  0.6143791079521179,\n",
       "  0.6470588445663452,\n",
       "  0.7189542651176453,\n",
       "  0.7189542651176453,\n",
       "  0.686274528503418,\n",
       "  0.7385621070861816,\n",
       "  0.7450980544090271,\n",
       "  0.7450980544090271,\n",
       "  0.8104575276374817,\n",
       "  0.8300653696060181,\n",
       "  0.8235294222831726,\n",
       "  0.8823529481887817,\n",
       "  0.8104575276374817,\n",
       "  0.843137264251709,\n",
       "  0.8758170008659363,\n",
       "  0.8823529481887817,\n",
       "  0.8562091588973999,\n",
       "  0.9281045794487,\n",
       "  0.8496732115745544,\n",
       "  0.8823529481887817,\n",
       "  0.8496732115745544,\n",
       "  0.9019607901573181,\n",
       "  0.8366013169288635,\n",
       "  0.8496732115745544,\n",
       "  0.8888888955116272,\n",
       "  0.9281045794487,\n",
       "  0.9411764740943909,\n",
       "  0.9019607901573181,\n",
       "  0.9542483687400818,\n",
       "  0.9477124214172363,\n",
       "  0.9542483687400818,\n",
       "  0.9607843160629272,\n",
       "  0.9607843160629272,\n",
       "  0.9673202633857727,\n",
       "  0.9673202633857727,\n",
       "  0.9673202633857727,\n",
       "  0.9803921580314636,\n",
       "  0.9869281053543091],\n",
       " 'val_loss': [4.894686698913574,\n",
       "  1.9414960145950317,\n",
       "  1.9374053478240967,\n",
       "  1.8047852516174316,\n",
       "  1.8456871509552002,\n",
       "  1.657762050628662,\n",
       "  1.693476676940918,\n",
       "  1.5654240846633911,\n",
       "  1.1872681379318237,\n",
       "  1.3502353429794312,\n",
       "  1.1998443603515625,\n",
       "  1.3612011671066284,\n",
       "  1.2905861139297485,\n",
       "  1.0542314052581787,\n",
       "  1.1514643430709839,\n",
       "  0.9941589832305908,\n",
       "  0.9882852435112,\n",
       "  1.1905786991119385,\n",
       "  0.8265380859375,\n",
       "  0.8705498576164246,\n",
       "  1.0184301137924194,\n",
       "  0.9208899736404419,\n",
       "  0.8192697167396545,\n",
       "  1.042346715927124,\n",
       "  0.8465490937232971,\n",
       "  1.2598315477371216,\n",
       "  1.0158703327178955,\n",
       "  1.1398921012878418,\n",
       "  1.358994483947754,\n",
       "  1.2616782188415527,\n",
       "  1.3324555158615112,\n",
       "  1.0759313106536865,\n",
       "  1.5796552896499634,\n",
       "  1.0548545122146606,\n",
       "  1.4749338626861572,\n",
       "  0.9983088374137878,\n",
       "  1.1499249935150146,\n",
       "  1.4359437227249146,\n",
       "  1.2678309679031372,\n",
       "  0.9968603849411011,\n",
       "  1.3095396757125854,\n",
       "  1.0815623998641968,\n",
       "  1.357438564300537,\n",
       "  1.0162311792373657,\n",
       "  1.3627912998199463,\n",
       "  1.5905377864837646,\n",
       "  0.9407825469970703,\n",
       "  1.5809472799301147,\n",
       "  1.2444183826446533,\n",
       "  1.4451910257339478],\n",
       " 'val_accuracy': [0.1428571492433548,\n",
       "  0.1428571492433548,\n",
       "  0.1666666716337204,\n",
       "  0.2142857164144516,\n",
       "  0.1428571492433548,\n",
       "  0.190476194024086,\n",
       "  0.261904776096344,\n",
       "  0.4285714328289032,\n",
       "  0.4523809552192688,\n",
       "  0.4285714328289032,\n",
       "  0.4047619104385376,\n",
       "  0.380952388048172,\n",
       "  0.523809552192688,\n",
       "  0.523809552192688,\n",
       "  0.523809552192688,\n",
       "  0.6190476417541504,\n",
       "  0.5952380895614624,\n",
       "  0.5952380895614624,\n",
       "  0.6666666865348816,\n",
       "  0.7142857313156128,\n",
       "  0.6190476417541504,\n",
       "  0.6190476417541504,\n",
       "  0.6666666865348816,\n",
       "  0.6428571343421936,\n",
       "  0.6666666865348816,\n",
       "  0.5476190447807312,\n",
       "  0.7142857313156128,\n",
       "  0.6428571343421936,\n",
       "  0.6666666865348816,\n",
       "  0.6666666865348816,\n",
       "  0.5952380895614624,\n",
       "  0.6190476417541504,\n",
       "  0.5952380895614624,\n",
       "  0.6666666865348816,\n",
       "  0.7142857313156128,\n",
       "  0.5952380895614624,\n",
       "  0.6190476417541504,\n",
       "  0.7142857313156128,\n",
       "  0.6904761791229248,\n",
       "  0.6904761791229248,\n",
       "  0.738095223903656,\n",
       "  0.6428571343421936,\n",
       "  0.6666666865348816,\n",
       "  0.738095223903656,\n",
       "  0.761904776096344,\n",
       "  0.761904776096344,\n",
       "  0.738095223903656,\n",
       "  0.738095223903656,\n",
       "  0.7857142686843872,\n",
       "  0.6904761791229248]}"
      ]
     },
     "execution_count": 11,
     "metadata": {},
     "output_type": "execute_result"
    }
   ],
   "source": [
    "r.history"
   ]
  },
  {
   "cell_type": "code",
   "execution_count": 12,
   "metadata": {
    "execution": {
     "iopub.execute_input": "2024-01-30T15:34:05.899391Z",
     "iopub.status.busy": "2024-01-30T15:34:05.898186Z",
     "iopub.status.idle": "2024-01-30T15:34:06.340655Z",
     "shell.execute_reply": "2024-01-30T15:34:06.339820Z"
    },
    "papermill": {
     "duration": 0.620612,
     "end_time": "2024-01-30T15:34:06.340827",
     "exception": false,
     "start_time": "2024-01-30T15:34:05.720215",
     "status": "completed"
    },
    "tags": []
   },
   "outputs": [
    {
     "data": {
      "image/png": "[encoded data removed]",
      "text/plain": [
       "<Figure size 432x288 with 1 Axes>"
      ]
     },
     "metadata": {
      "needs_background": "light"
     },
     "output_type": "display_data"
    },
    {
     "data": {
      "image/png": "[encoded data removed]",
      "text/plain": [
       "<Figure size 432x288 with 1 Axes>"
      ]
     },
     "metadata": {
      "needs_background": "light"
     },
     "output_type": "display_data"
    },
    {
     "data": {
      "text/plain": [
       "<Figure size 432x288 with 0 Axes>"
      ]
     },
     "metadata": {},
     "output_type": "display_data"
    }
   ],
   "source": [
    "import matplotlib.pyplot as plt\n",
    "# plot the loss\n",
    "plt.plot(r.history['loss'], label='train loss')\n",
    "plt.plot(r.history['val_loss'], label='val loss')\n",
    "plt.legend()\n",
    "plt.show()\n",
    "plt.savefig('LossVal_loss')\n",
    "\n",
    "# plot the accuracy\n",
    "plt.plot(r.history['accuracy'], label='train acc')\n",
    "plt.plot(r.history['val_accuracy'], label='val acc')\n",
    "plt.legend()\n",
    "plt.show()\n",
    "plt.savefig('AccVal_acc')"
   ]
  },
  {
   "cell_type": "code",
   "execution_count": 13,
   "metadata": {
    "execution": {
     "iopub.execute_input": "2024-01-30T15:34:06.704860Z",
     "iopub.status.busy": "2024-01-30T15:34:06.703659Z",
     "iopub.status.idle": "2024-01-30T15:34:06.942695Z",
     "shell.execute_reply": "2024-01-30T15:34:06.941975Z"
    },
    "papermill": {
     "duration": 0.4184,
     "end_time": "2024-01-30T15:34:06.942852",
     "exception": false,
     "start_time": "2024-01-30T15:34:06.524452",
     "status": "completed"
    },
    "tags": []
   },
   "outputs": [],
   "source": [
    "# save it as a h5 file\n",
    "\n",
    "\n",
    "from tensorflow.keras.models import load_model\n",
    "\n",
    "Classifier.save('model_Classifier.h5')"
   ]
  },
  {
   "cell_type": "code",
   "execution_count": 14,
   "metadata": {
    "execution": {
     "iopub.execute_input": "2024-01-30T15:34:07.297478Z",
     "iopub.status.busy": "2024-01-30T15:34:07.296292Z",
     "iopub.status.idle": "2024-01-30T15:34:10.098543Z",
     "shell.execute_reply": "2024-01-30T15:34:10.097502Z"
    },
    "papermill": {
     "duration": 2.985726,
     "end_time": "2024-01-30T15:34:10.098720",
     "exception": false,
     "start_time": "2024-01-30T15:34:07.112994",
     "status": "completed"
    },
    "tags": []
   },
   "outputs": [],
   "source": [
    "y_pred = Classifier.predict(test_set)"
   ]
  },
  {
   "cell_type": "code",
   "execution_count": 15,
   "metadata": {
    "execution": {
     "iopub.execute_input": "2024-01-30T15:34:10.458489Z",
     "iopub.status.busy": "2024-01-30T15:34:10.457208Z",
     "iopub.status.idle": "2024-01-30T15:34:10.462316Z",
     "shell.execute_reply": "2024-01-30T15:34:10.462878Z"
    },
    "papermill": {
     "duration": 0.190461,
     "end_time": "2024-01-30T15:34:10.463059",
     "exception": false,
     "start_time": "2024-01-30T15:34:10.272598",
     "status": "completed"
    },
    "tags": []
   },
   "outputs": [
    {
     "data": {
      "text/plain": [
       "array([[3.30632565e-06, 9.78272319e-01, 6.17548039e-08, 1.08715416e-04,\n",
       "        4.32863380e-05, 2.09147483e-02, 6.57655590e-04],\n",
       "       [1.13293902e-06, 4.75789541e-09, 2.38911039e-12, 2.98509550e-10,\n",
       "        7.31669545e-01, 2.35656068e-01, 3.26732509e-02],\n",
       "       [9.33387458e-01, 2.72459052e-11, 1.89986094e-05, 1.10201436e-04,\n",
       "        6.64692894e-02, 1.32600944e-05, 7.91546825e-07],\n",
       "       [1.23432656e-07, 5.27263939e-01, 4.83017862e-11, 2.05906508e-05,\n",
       "        5.59367663e-07, 1.21005572e-01, 3.51709157e-01],\n",
       "       [6.88178814e-04, 2.60941734e-16, 6.42392769e-14, 4.42697148e-13,\n",
       "        9.99311566e-01, 8.04448508e-09, 2.29730730e-07],\n",
       "       [1.48629897e-05, 1.42222814e-16, 2.05268779e-14, 2.97595178e-11,\n",
       "        9.99983668e-01, 1.43843351e-06, 3.27756879e-08],\n",
       "       [4.45764073e-07, 3.31081860e-02, 1.97770758e-11, 1.01486025e-02,\n",
       "        8.23166374e-06, 7.40464211e-01, 2.16270313e-01],\n",
       "       [1.10122231e-08, 9.37089026e-01, 2.11458961e-10, 5.42080670e-07,\n",
       "        6.02206143e-08, 2.39271689e-02, 3.89830917e-02],\n",
       "       [9.99048889e-01, 6.62496946e-09, 7.01242334e-06, 1.16779518e-07,\n",
       "        9.43317078e-04, 4.60120873e-07, 1.21974566e-07],\n",
       "       [1.01835112e-05, 1.86646893e-03, 6.35925179e-09, 4.64899786e-04,\n",
       "        3.73678803e-02, 3.50432515e-01, 6.09858036e-01],\n",
       "       [1.04799459e-03, 2.71822592e-10, 1.71090591e-08, 1.13969772e-05,\n",
       "        9.98345494e-01, 1.18775706e-05, 5.83156128e-04],\n",
       "       [3.17802824e-06, 1.08884046e-09, 9.99996781e-01, 1.48880872e-08,\n",
       "        2.62874444e-10, 2.55473545e-08, 9.06666464e-10],\n",
       "       [9.99846578e-01, 5.21197723e-13, 1.34686537e-08, 1.30627846e-08,\n",
       "        1.52502151e-04, 7.81987580e-07, 1.17870428e-07],\n",
       "       [1.15335115e-05, 3.95191199e-23, 1.90622447e-20, 6.14183726e-14,\n",
       "        9.99985456e-01, 2.91999619e-10, 2.98867212e-06],\n",
       "       [4.84103035e-12, 9.81220007e-01, 3.25030327e-14, 8.10872109e-07,\n",
       "        3.66720598e-10, 9.05691274e-03, 9.72219184e-03],\n",
       "       [9.34416846e-07, 8.62254808e-07, 3.82083531e-11, 2.60423849e-06,\n",
       "        2.31468971e-06, 1.75273628e-03, 9.98240590e-01],\n",
       "       [3.14363831e-07, 1.90631062e-01, 1.95043057e-08, 1.61964237e-03,\n",
       "        2.07984631e-05, 6.86559200e-01, 1.21169008e-01],\n",
       "       [3.70302843e-03, 1.87153090e-02, 1.07061860e-04, 4.86304536e-02,\n",
       "        2.83862166e-02, 5.15631616e-01, 3.84826243e-01],\n",
       "       [9.84722733e-01, 8.69628639e-06, 4.26494717e-06, 1.63043244e-03,\n",
       "        1.24895079e-02, 5.67162097e-05, 1.08774612e-03],\n",
       "       [9.69977081e-01, 4.56270868e-07, 7.28075160e-03, 1.41012166e-02,\n",
       "        5.86712174e-03, 2.75303191e-03, 2.03360305e-05],\n",
       "       [5.80699648e-08, 4.45466704e-18, 1.07843507e-17, 8.41162001e-11,\n",
       "        1.00000000e+00, 1.20816924e-11, 2.08283435e-09],\n",
       "       [9.19541665e-11, 3.07763624e-03, 1.95288748e-14, 7.35014555e-06,\n",
       "        2.30085675e-07, 7.50166893e-01, 2.46747807e-01],\n",
       "       [5.92628203e-06, 7.52201231e-06, 7.41432657e-08, 4.20067845e-05,\n",
       "        5.62804332e-03, 7.21631706e-01, 2.72684664e-01],\n",
       "       [6.22718858e-07, 1.24292402e-03, 8.66029677e-06, 1.09373778e-02,\n",
       "        1.08449943e-02, 9.70551789e-01, 6.41364930e-03],\n",
       "       [3.73430043e-01, 2.06808053e-07, 7.37082506e-10, 2.16437527e-03,\n",
       "        6.22609317e-01, 9.26739813e-05, 1.70336221e-03],\n",
       "       [1.84350368e-02, 1.02024368e-10, 9.71017301e-01, 7.36772563e-07,\n",
       "        1.05457269e-02, 6.75842614e-07, 5.59607031e-07],\n",
       "       [3.19480454e-03, 1.51371241e-05, 7.31510736e-05, 7.91942775e-01,\n",
       "        2.94898084e-04, 1.16217639e-02, 1.92857400e-01],\n",
       "       [3.82269956e-02, 7.97611699e-11, 3.45260389e-07, 3.61642287e-06,\n",
       "        6.86361313e-01, 6.05682796e-03, 2.69350827e-01],\n",
       "       [3.93256405e-03, 4.46460122e-04, 9.92599726e-01, 3.85550462e-04,\n",
       "        7.10703462e-05, 2.47961609e-03, 8.49649659e-05],\n",
       "       [6.04115009e-01, 3.85975540e-07, 1.16128024e-06, 2.77552694e-01,\n",
       "        6.42509982e-02, 8.63758905e-04, 5.32161146e-02],\n",
       "       [4.84103035e-12, 9.81220007e-01, 3.25030327e-14, 8.10872109e-07,\n",
       "        3.66721320e-10, 9.05691274e-03, 9.72222071e-03],\n",
       "       [6.97575584e-02, 1.69767907e-06, 9.27985847e-01, 2.23252038e-03,\n",
       "        1.51393829e-06, 1.83611810e-05, 2.40576787e-06],\n",
       "       [3.14363831e-07, 1.90631062e-01, 1.95043057e-08, 1.61964237e-03,\n",
       "        2.07984631e-05, 6.86559200e-01, 1.21169008e-01],\n",
       "       [4.13211877e-04, 5.72665385e-06, 1.83526174e-06, 1.50195256e-01,\n",
       "        1.75089184e-02, 7.38667743e-03, 8.24488401e-01],\n",
       "       [4.37231392e-01, 9.22795826e-18, 1.07164017e-14, 3.66746917e-08,\n",
       "        5.62349677e-01, 2.40212583e-09, 4.18896903e-04],\n",
       "       [1.51209775e-07, 1.37298270e-16, 1.78955860e-17, 3.11152313e-08,\n",
       "        9.99999762e-01, 4.51860799e-10, 1.45201166e-14],\n",
       "       [6.19390011e-01, 4.28521198e-05, 3.73471737e-01, 5.60778193e-04,\n",
       "        1.17080875e-04, 6.32987218e-03, 8.76554841e-05],\n",
       "       [3.23072355e-03, 3.24897990e-11, 8.07162822e-13, 9.82150006e-09,\n",
       "        9.96677279e-01, 1.41471901e-05, 7.78430986e-05],\n",
       "       [1.02700165e-03, 7.61244155e-04, 9.26336944e-01, 1.02858664e-03,\n",
       "        5.80943674e-02, 1.27125112e-02, 3.92946713e-05],\n",
       "       [4.10226519e-08, 5.42210881e-04, 3.17239485e-10, 5.08103824e-07,\n",
       "        3.28233938e-07, 9.57875419e-03, 9.89878178e-01],\n",
       "       [4.46304097e-04, 7.84359522e-10, 1.96948903e-07, 3.53017895e-05,\n",
       "        9.99277771e-01, 3.81281316e-05, 2.02229596e-04],\n",
       "       [5.97377980e-10, 1.88254830e-06, 5.09276289e-14, 4.64838017e-08,\n",
       "        1.61005820e-10, 2.70381966e-03, 9.97294247e-01]], dtype=float32)"
      ]
     },
     "execution_count": 15,
     "metadata": {},
     "output_type": "execute_result"
    }
   ],
   "source": [
    "y_pred"
   ]
  },
  {
   "cell_type": "code",
   "execution_count": 16,
   "metadata": {
    "execution": {
     "iopub.execute_input": "2024-01-30T15:34:10.805833Z",
     "iopub.status.busy": "2024-01-30T15:34:10.804648Z",
     "iopub.status.idle": "2024-01-30T15:34:10.811006Z",
     "shell.execute_reply": "2024-01-30T15:34:10.810325Z"
    },
    "papermill": {
     "duration": 0.178492,
     "end_time": "2024-01-30T15:34:10.811161",
     "exception": false,
     "start_time": "2024-01-30T15:34:10.632669",
     "status": "completed"
    },
    "tags": []
   },
   "outputs": [],
   "source": [
    "import numpy as np\n",
    "y_pred = np.argmax(y_pred, axis=1)"
   ]
  },
  {
   "cell_type": "code",
   "execution_count": 17,
   "metadata": {
    "execution": {
     "iopub.execute_input": "2024-01-30T15:34:11.158678Z",
     "iopub.status.busy": "2024-01-30T15:34:11.157491Z",
     "iopub.status.idle": "2024-01-30T15:34:11.165761Z",
     "shell.execute_reply": "2024-01-30T15:34:11.164909Z"
    },
    "papermill": {
     "duration": 0.181329,
     "end_time": "2024-01-30T15:34:11.165911",
     "exception": false,
     "start_time": "2024-01-30T15:34:10.984582",
     "status": "completed"
    },
    "tags": []
   },
   "outputs": [
    {
     "data": {
      "text/plain": [
       "array([1, 4, 0, 1, 4, 4, 5, 1, 0, 6, 4, 2, 0, 4, 1, 6, 5, 5, 0, 0, 4, 5,\n",
       "       5, 5, 4, 2, 3, 4, 2, 0, 1, 2, 5, 6, 4, 4, 0, 4, 2, 6, 4, 6])"
      ]
     },
     "execution_count": 17,
     "metadata": {},
     "output_type": "execute_result"
    }
   ],
   "source": [
    "y_pred"
   ]
  },
  {
   "cell_type": "code",
   "execution_count": 18,
   "metadata": {
    "execution": {
     "iopub.execute_input": "2024-01-30T15:34:11.533074Z",
     "iopub.status.busy": "2024-01-30T15:34:11.531947Z",
     "iopub.status.idle": "2024-01-30T15:34:11.535731Z",
     "shell.execute_reply": "2024-01-30T15:34:11.535057Z"
    },
    "papermill": {
     "duration": 0.183396,
     "end_time": "2024-01-30T15:34:11.535880",
     "exception": false,
     "start_time": "2024-01-30T15:34:11.352484",
     "status": "completed"
    },
    "tags": []
   },
   "outputs": [],
   "source": [
    "from tensorflow.keras.models import load_model\n",
    "from tensorflow.keras.preprocessing import image"
   ]
  },
  {
   "cell_type": "code",
   "execution_count": 19,
   "metadata": {
    "execution": {
     "iopub.execute_input": "2024-01-30T15:34:11.894685Z",
     "iopub.status.busy": "2024-01-30T15:34:11.893860Z",
     "iopub.status.idle": "2024-01-30T15:34:12.360756Z",
     "shell.execute_reply": "2024-01-30T15:34:12.359933Z"
    },
    "papermill": {
     "duration": 0.649362,
     "end_time": "2024-01-30T15:34:12.360908",
     "exception": false,
     "start_time": "2024-01-30T15:34:11.711546",
     "status": "completed"
    },
    "tags": []
   },
   "outputs": [],
   "source": [
    "model=load_model('model_Classifier.h5')"
   ]
  },
  {
   "cell_type": "code",
   "execution_count": 20,
   "metadata": {
    "execution": {
     "iopub.execute_input": "2024-01-30T15:34:12.717020Z",
     "iopub.status.busy": "2024-01-30T15:34:12.716146Z",
     "iopub.status.idle": "2024-01-30T15:34:12.760663Z",
     "shell.execute_reply": "2024-01-30T15:34:12.761323Z"
    },
    "papermill": {
     "duration": 0.222867,
     "end_time": "2024-01-30T15:34:12.761521",
     "exception": false,
     "start_time": "2024-01-30T15:34:12.538654",
     "status": "completed"
    },
    "tags": []
   },
   "outputs": [],
   "source": [
    "img=image.load_img('../input/indian-currency-notes-classifier/Test/1Hundrednote/1.jpg',target_size=(224,224))"
   ]
  },
  {
   "cell_type": "code",
   "execution_count": 21,
   "metadata": {
    "execution": {
     "iopub.execute_input": "2024-01-30T15:34:13.115844Z",
     "iopub.status.busy": "2024-01-30T15:34:13.114939Z",
     "iopub.status.idle": "2024-01-30T15:34:13.142839Z",
     "shell.execute_reply": "2024-01-30T15:34:13.143475Z"
    },
    "papermill": {
     "duration": 0.206322,
     "end_time": "2024-01-30T15:34:13.143648",
     "exception": false,
     "start_time": "2024-01-30T15:34:12.937326",
     "status": "completed"
    },
    "tags": []
   },
   "outputs": [
    {
     "data": {
      "image/png": "[encoded data removed]",
      "text/plain": [
       "<PIL.Image.Image image mode=RGB size=224x224 at 0x7C41A84089D0>"
      ]
     },
     "execution_count": 21,
     "metadata": {},
     "output_type": "execute_result"
    }
   ],
   "source": [
    "img"
   ]
  },
  {
   "cell_type": "code",
   "execution_count": 22,
   "metadata": {
    "execution": {
     "iopub.execute_input": "2024-01-30T15:34:13.511467Z",
     "iopub.status.busy": "2024-01-30T15:34:13.510583Z",
     "iopub.status.idle": "2024-01-30T15:34:13.516379Z",
     "shell.execute_reply": "2024-01-30T15:34:13.517043Z"
    },
    "papermill": {
     "duration": 0.189216,
     "end_time": "2024-01-30T15:34:13.517285",
     "exception": false,
     "start_time": "2024-01-30T15:34:13.328069",
     "status": "completed"
    },
    "tags": []
   },
   "outputs": [],
   "source": [
    "test_image=image.img_to_array(img)\n",
    "test_image=np.expand_dims(test_image, axis = 0)"
   ]
  },
  {
   "cell_type": "code",
   "execution_count": 23,
   "metadata": {
    "execution": {
     "iopub.execute_input": "2024-01-30T15:34:13.876846Z",
     "iopub.status.busy": "2024-01-30T15:34:13.876038Z",
     "iopub.status.idle": "2024-01-30T15:34:13.989332Z",
     "shell.execute_reply": "2024-01-30T15:34:13.988512Z"
    },
    "papermill": {
     "duration": 0.293095,
     "end_time": "2024-01-30T15:34:13.989468",
     "exception": false,
     "start_time": "2024-01-30T15:34:13.696373",
     "status": "completed"
    },
    "tags": []
   },
   "outputs": [
    {
     "data": {
      "text/plain": [
       "array([[1., 0., 0., 0., 0., 0., 0.]], dtype=float32)"
      ]
     },
     "execution_count": 23,
     "metadata": {},
     "output_type": "execute_result"
    }
   ],
   "source": [
    "result = Classifier.predict(test_image)\n",
    "result"
   ]
  },
  {
   "cell_type": "code",
   "execution_count": 24,
   "metadata": {
    "execution": {
     "iopub.execute_input": "2024-01-30T15:34:14.359872Z",
     "iopub.status.busy": "2024-01-30T15:34:14.359027Z",
     "iopub.status.idle": "2024-01-30T15:34:14.449685Z",
     "shell.execute_reply": "2024-01-30T15:34:14.448987Z"
    },
    "papermill": {
     "duration": 0.278867,
     "end_time": "2024-01-30T15:34:14.449843",
     "exception": false,
     "start_time": "2024-01-30T15:34:14.170976",
     "status": "completed"
    },
    "tags": []
   },
   "outputs": [],
   "source": [
    "a=np.argmax(model.predict(test_image), axis=1)"
   ]
  },
  {
   "cell_type": "code",
   "execution_count": 25,
   "metadata": {
    "execution": {
     "iopub.execute_input": "2024-01-30T15:34:14.867972Z",
     "iopub.status.busy": "2024-01-30T15:34:14.867108Z",
     "iopub.status.idle": "2024-01-30T15:34:14.873410Z",
     "shell.execute_reply": "2024-01-30T15:34:14.874031Z"
    },
    "papermill": {
     "duration": 0.2479,
     "end_time": "2024-01-30T15:34:14.874235",
     "exception": false,
     "start_time": "2024-01-30T15:34:14.626335",
     "status": "completed"
    },
    "tags": []
   },
   "outputs": [
    {
     "data": {
      "text/plain": [
       "array([False])"
      ]
     },
     "execution_count": 25,
     "metadata": {},
     "output_type": "execute_result"
    }
   ],
   "source": [
    "a==5"
   ]
  },
  {
   "cell_type": "code",
   "execution_count": 26,
   "metadata": {
    "execution": {
     "iopub.execute_input": "2024-01-30T15:34:15.238051Z",
     "iopub.status.busy": "2024-01-30T15:34:15.234494Z",
     "iopub.status.idle": "2024-01-30T15:34:15.245012Z",
     "shell.execute_reply": "2024-01-30T15:34:15.243950Z"
    },
    "papermill": {
     "duration": 0.193835,
     "end_time": "2024-01-30T15:34:15.245241",
     "exception": false,
     "start_time": "2024-01-30T15:34:15.051406",
     "status": "completed"
    },
    "tags": []
   },
   "outputs": [
    {
     "data": {
      "text/plain": [
       "array([ True])"
      ]
     },
     "execution_count": 26,
     "metadata": {},
     "output_type": "execute_result"
    }
   ],
   "source": [
    "a==0"
   ]
  },
  {
   "cell_type": "code",
   "execution_count": null,
   "metadata": {
    "papermill": {
     "duration": 0.199462,
     "end_time": "2024-01-30T15:34:15.649123",
     "exception": false,
     "start_time": "2024-01-30T15:34:15.449661",
     "status": "completed"
    },
    "tags": []
   },
   "outputs": [],
   "source": []
  }
 ],
 "metadata": {
  "kaggle": {
   "accelerator": "none",
   "dataSources": [
    {
     "datasetId": 757568,
     "sourceId": 1308548,
     "sourceType": "datasetVersion"
    }
   ],
   "dockerImageVersionId": 29962,
   "isGpuEnabled": false,
   "isInternetEnabled": true,
   "language": "python",
   "sourceType": "notebook"
  },
  "kernelspec": {
   "display_name": "Python 3 (ipykernel)",
   "language": "python",
   "name": "python3"
  },
  "language_info": {
   "codemirror_mode": {
    "name": "ipython",
    "version": 3
   },
   "file_extension": ".py",
   "mimetype": "text/x-python",
   "name": "python",
   "nbconvert_exporter": "python",
   "pygments_lexer": "ipython3",
   "version": "3.8.10"
  },
  "papermill": {
   "duration": 584.037299,
   "end_time": "2024-01-30T15:34:15.961692",
   "environment_variables": {},
   "exception": null,
   "input_path": "__notebook__.ipynb",
   "output_path": "__notebook__.ipynb",
   "parameters": {},
   "start_time": "2024-01-30T15:24:31.924393",
   "version": "2.1.0"
  }
 },
 "nbformat": 4,
 "nbformat_minor": 4
}
